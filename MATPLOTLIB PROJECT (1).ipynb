{
 "cells": [
  {
   "cell_type": "code",
   "execution_count": 1,
   "id": "de56b9ff",
   "metadata": {},
   "outputs": [
    {
     "name": "stdout",
     "output_type": "stream",
     "text": [
      "<class 'pandas.core.frame.DataFrame'>\n",
      "RangeIndex: 200 entries, 0 to 199\n",
      "Data columns (total 5 columns):\n",
      " #   Column                  Non-Null Count  Dtype \n",
      "---  ------                  --------------  ----- \n",
      " 0   CustomerID              200 non-null    int64 \n",
      " 1   Genre                   200 non-null    object\n",
      " 2   Age                     200 non-null    int64 \n",
      " 3   Annual Income (k$)      200 non-null    int64 \n",
      " 4   Spending Score (1-100)  200 non-null    int64 \n",
      "dtypes: int64(4), object(1)\n",
      "memory usage: 7.9+ KB\n"
     ]
    }
   ],
   "source": [
    "import pandas as pd\n",
    "mall_customers = pd.read_csv (\"C:/Users/EMEKA/Downloads/Mall_Customers.csv\")\n",
    "import matplotlib.pyplot as plt\n",
    "import numpy as np\n",
    "\n",
    "mall_customers.info()\n",
    "mall_customers.rename (columns = {\"Annual Income (k$)\" : \"Annual_Income\", \"Spending Score (1-100)\" : \"Spending_Score\"}, \n",
    "                       inplace = True)\n",
    "\n",
    "mall_customers.sort_values(by = \"Age\", inplace = True)\n",
    "Annual = mall_customers[\"Annual_Income\"]\n",
    "Annual_Income = Annual.tolist()\n",
    "\n",
    "EIG_AA = Annual_Income[:46] \n",
    "#EIG_AA = Annual Income of Ages EIGHTEEN TO TWENTY SEVEN \n",
    "TWE_AA = Annual_Income[46:116]\n",
    "#TWE_AA = Annual Income of Ages TWENTY  EIGHT TO THIRTY NINE\n",
    "FOR_AA = Annual_Income[116:170]\n",
    "#FOR_AA = Annual Income of Ages FORTY TO FIFTY FOUR\n",
    "FIF_AA = Annual_Income[170:201]\n",
    "#FIF_AA = Annual Income of Ages FIFTY FIVE TO SEVENTY\n"
   ]
  },
  {
   "cell_type": "code",
   "execution_count": 2,
   "id": "b167b064",
   "metadata": {},
   "outputs": [
    {
     "name": "stdout",
     "output_type": "stream",
     "text": [
      "48.5\n",
      "70.57142857142857\n",
      "61.611111111111114\n",
      "53.8\n"
     ]
    }
   ],
   "source": [
    "total = sum(EIG_AA)\n",
    "# Sum of the Annual Income of mall customers between the Age of 18-27    \n",
    "AVG_EIG_AA = total/len(EIG_AA)\n",
    "# Average Annual Income of mall customers between the Age of 18-27\n",
    "print (AVG_EIG_AA)\n",
    "\n",
    "\n",
    "tota = sum (TWE_AA)\n",
    "# Sum of the Annual Income of mall customers between the Age of 28-39        \n",
    "AVG_TWE_AA = tota/len(TWE_AA)\n",
    "# Average Annual Income of mall customers between the Age of 28-39\n",
    "print (AVG_TWE_AA)\n",
    "\n",
    "\n",
    "\n",
    "\n",
    "\n",
    "tot = sum (FOR_AA)\n",
    "# Sum of the Annual Income of mall customers between the Age of 40-54      \n",
    "AVG_FOR_AA = tot/len(FOR_AA)\n",
    "# Average Annual Income of mall customers between the Age of 40-54\n",
    "print (AVG_FOR_AA)\n",
    "\n",
    "\n",
    "\n",
    "\n",
    "\n",
    "tots = sum (FIF_AA)\n",
    "# Sum of the Annual Income of mall customers between the Age of 55-70      \n",
    "AVG_FIF_AA = tots/len(FIF_AA)\n",
    "# Average Annual Income of mall customers between the Age of 55-70\n",
    "print (AVG_FIF_AA)"
   ]
  },
  {
   "cell_type": "code",
   "execution_count": 3,
   "id": "3a7944ff",
   "metadata": {},
   "outputs": [
    {
     "name": "stdout",
     "output_type": "stream",
     "text": [
      "2231\n",
      "4940\n",
      "3327\n",
      "1614\n"
     ]
    }
   ],
   "source": [
    "print (total)\n",
    "print (tota)\n",
    "print (tot)\n",
    "print (tots)"
   ]
  },
  {
   "cell_type": "code",
   "execution_count": 4,
   "id": "30ea61a7",
   "metadata": {},
   "outputs": [
    {
     "data": {
      "image/png": "[encoded data removed]",
      "text/plain": [
       "<Figure size 432x288 with 1 Axes>"
      ]
     },
     "metadata": {
      "needs_background": "light"
     },
     "output_type": "display_data"
    },
    {
     "data": {
      "image/png": "[encoded data removed]",
      "text/plain": [
       "<Figure size 432x288 with 1 Axes>"
      ]
     },
     "metadata": {},
     "output_type": "display_data"
    },
    {
     "data": {
      "text/plain": [
       "<function matplotlib.pyplot.show(close=None, block=None)>"
      ]
     },
     "execution_count": 4,
     "metadata": {},
     "output_type": "execute_result"
    },
    {
     "data": {
      "image/png": "[encoded data removed]",
      "text/plain": [
       "<Figure size 432x288 with 1 Axes>"
      ]
     },
     "metadata": {},
     "output_type": "display_data"
    }
   ],
   "source": [
    "AVG_GROUP = [AVG_EIG_AA, AVG_TWE_AA, AVG_FOR_AA, AVG_FIF_AA]\n",
    "AVG_LABEL  = [\"18-27\", \"28-39\", \"40-54\", \"55-70\"]\n",
    "plt.bar (AVG_LABEL, AVG_GROUP)\n",
    "plt.show()\n",
    "\n",
    "Explode = (0, 0.1, 0, 0)\n",
    "plt.pie (AVG_GROUP, explode = Explode, labels = AVG_LABEL, autopct = '%1.1f%%')\n",
    "plt.show()\n",
    "\n",
    "TOT = [total, tota, tot, tots]\n",
    "plt.pie (TOT, explode = Explode, labels = AVG_LABEL, autopct = '%1.1f%%')\n",
    "plt.show"
   ]
  },
  {
   "cell_type": "code",
   "execution_count": 5,
   "id": "d7982e7a",
   "metadata": {},
   "outputs": [],
   "source": [
    "Spending = mall_customers[\"Spending_Score\"]\n",
    "Spending_Score = Spending.tolist()\n",
    "EIG_SS = Spending_Score[:46] \n",
    "#EIG_SS = EIGHTEEN TO TWENTY SEVEN\n",
    "TWE_SS = Spending_Score[46:116]\n",
    "#TWE_SS = TWENTY  EIGHT TO THIRTY NINE\n",
    "FOR_SS = Spending_Score[116:170]\n",
    "#FOR_SS = FORTY TO FIFTY FOUR\n",
    "FIF_SS = Spending_Score[170:201]\n",
    "#FIF_SS = FIFTY FIVE TO SEVENTY"
   ]
  },
  {
   "cell_type": "code",
   "execution_count": 6,
   "id": "a78922a6",
   "metadata": {},
   "outputs": [
    {
     "name": "stdout",
     "output_type": "stream",
     "text": [
      "55.630434782608695\n",
      "62.714285714285715\n",
      "35.55555555555556\n",
      "39.03333333333333\n"
     ]
    }
   ],
   "source": [
    "total_SS = sum(EIG_SS)\n",
    "    \n",
    "AVG_EIG_SS = total_SS/len(EIG_SS)\n",
    "print (AVG_EIG_SS)\n",
    "\n",
    "\n",
    "tota_SS = sum (TWE_SS)\n",
    "    \n",
    "AVG_TWE_SS = tota_SS/len(TWE_SS)\n",
    "print (AVG_TWE_SS)\n",
    "\n",
    "\n",
    "\n",
    "\n",
    "\n",
    "tot_SS = sum (FOR_SS)\n",
    "    \n",
    "AVG_FOR_SS = tot_SS/len(FOR_SS)\n",
    "print (AVG_FOR_SS)\n",
    "\n",
    "\n",
    "\n",
    "\n",
    "\n",
    "tots_SS = sum (FIF_SS)\n",
    "    \n",
    "AVG_FIF_SS = tots_SS/len(FIF_SS)\n",
    "print (AVG_FIF_SS)"
   ]
  },
  {
   "cell_type": "code",
   "execution_count": 7,
   "id": "22ce431e",
   "metadata": {},
   "outputs": [
    {
     "data": {
      "image/png": "[encoded data removed]",
      "text/plain": [
       "<Figure size 432x288 with 1 Axes>"
      ]
     },
     "metadata": {
      "needs_background": "light"
     },
     "output_type": "display_data"
    },
    {
     "data": {
      "image/png": "[encoded data removed]",
      "text/plain": [
       "<Figure size 432x288 with 1 Axes>"
      ]
     },
     "metadata": {},
     "output_type": "display_data"
    },
    {
     "data": {
      "text/plain": [
       "<function matplotlib.pyplot.show(close=None, block=None)>"
      ]
     },
     "execution_count": 7,
     "metadata": {},
     "output_type": "execute_result"
    },
    {
     "data": {
      "image/png": "[encoded data removed]",
      "text/plain": [
       "<Figure size 432x288 with 1 Axes>"
      ]
     },
     "metadata": {},
     "output_type": "display_data"
    }
   ],
   "source": [
    "AVG_GROUP_SS = [AVG_EIG_SS, AVG_TWE_SS, AVG_FOR_SS, AVG_FIF_SS]\n",
    "AVG_LABEL_SS  = [\"18-27\", \"28-39\", \"40-54\", \"55-70\"]\n",
    "plt.bar (AVG_LABEL_SS, AVG_GROUP_SS)\n",
    "plt.show()\n",
    "\n",
    "Explode = (0, 0.1, 0, 0)\n",
    "plt.pie (AVG_GROUP_SS, explode = Explode, labels = AVG_LABEL_SS, autopct = '%1.1f%%')\n",
    "plt.show()\n",
    "\n",
    "TOT_SS = [total_SS, tota_SS, tot_SS, tots_SS]\n",
    "plt.pie (TOT_SS, explode = Explode, labels = AVG_LABEL_SS, autopct = '%1.1f%%')\n",
    "plt.show"
   ]
  },
  {
   "cell_type": "code",
   "execution_count": 8,
   "id": "5e1c82cf",
   "metadata": {},
   "outputs": [
    {
     "data": {
      "image/png": "[encoded data removed]",
      "text/plain": [
       "<Figure size 432x288 with 1 Axes>"
      ]
     },
     "metadata": {
      "needs_background": "light"
     },
     "output_type": "display_data"
    }
   ],
   "source": [
    "\n",
    "AVG_LABEL_axis = np.arange (len(AVG_LABEL))\n",
    "plt.xticks(AVG_LABEL_axis, AVG_LABEL)\n",
    "plt.bar(AVG_LABEL_axis - 0.2, AVG_GROUP, 0.4, label = 'ANNUAL INCOME', color = \"r\")\n",
    "plt.bar(AVG_LABEL_axis + 0.2, AVG_GROUP_SS, 0.4, label = 'SPENDING SCORE', color = \"g\")\n",
    "plt.legend()\n",
    "plt.xlabel(\"AGE GRADE\")\n",
    "plt.ylabel(\"AMOUNT\")\n",
    "plt.title(\"ANNUAL INCOME VS SPENDING SCORE\")\n",
    "plt.show()"
   ]
  },
  {
   "cell_type": "code",
   "execution_count": 9,
   "id": "d458468d",
   "metadata": {},
   "outputs": [
    {
     "data": {
      "image/png": "[encoded data removed]",
      "text/plain": [
       "<Figure size 432x288 with 1 Axes>"
      ]
     },
     "metadata": {
      "needs_background": "light"
     },
     "output_type": "display_data"
    }
   ],
   "source": [
    "plt.bar (AVG_LABEL_SS, AVG_GROUP_SS)\n",
    "plt.bar (AVG_LABEL, AVG_GROUP, bottom = AVG_GROUP_SS)\n",
    "plt.show()\n",
    "# Display two bar charts on each other"
   ]
  },
  {
   "cell_type": "code",
   "execution_count": 10,
   "id": "61181486",
   "metadata": {},
   "outputs": [
    {
     "name": "stdout",
     "output_type": "stream",
     "text": [
      "                   CustomerID   Genre  Spending_Score\n",
      "Age Annual_Income                                    \n",
      "18  33                     34    Male              92\n",
      "    48                     66    Male              59\n",
      "    59                     92    Male              41\n",
      "    65                    115  Female              48\n",
      "19  15                      1    Male              39\n",
      "...                       ...     ...             ...\n",
      "68  59                     91  Female              55\n",
      "    63                    109    Male              43\n",
      "69  44                     58    Male              46\n",
      "70  46                     61    Male              56\n",
      "    49                     71    Male              55\n",
      "\n",
      "[192 rows x 3 columns]\n"
     ]
    },
    {
     "data": {
      "text/html": [
       "<div>\n",
       "<style scoped>\n",
       "    .dataframe tbody tr th:only-of-type {\n",
       "        vertical-align: middle;\n",
       "    }\n",
       "\n",
       "    .dataframe tbody tr th {\n",
       "        vertical-align: top;\n",
       "    }\n",
       "\n",
       "    .dataframe thead th {\n",
       "        text-align: right;\n",
       "    }\n",
       "</style>\n",
       "<table border=\"1\" class=\"dataframe\">\n",
       "  <thead>\n",
       "    <tr style=\"text-align: right;\">\n",
       "      <th></th>\n",
       "      <th></th>\n",
       "      <th>CustomerID</th>\n",
       "      <th>Genre</th>\n",
       "      <th>Spending_Score</th>\n",
       "    </tr>\n",
       "    <tr>\n",
       "      <th>Annual_Income</th>\n",
       "      <th>Age</th>\n",
       "      <th></th>\n",
       "      <th></th>\n",
       "      <th></th>\n",
       "    </tr>\n",
       "  </thead>\n",
       "  <tbody>\n",
       "    <tr>\n",
       "      <th rowspan=\"2\" valign=\"top\">15</th>\n",
       "      <th>19</th>\n",
       "      <td>1</td>\n",
       "      <td>Male</td>\n",
       "      <td>39</td>\n",
       "    </tr>\n",
       "    <tr>\n",
       "      <th>21</th>\n",
       "      <td>2</td>\n",
       "      <td>Male</td>\n",
       "      <td>81</td>\n",
       "    </tr>\n",
       "    <tr>\n",
       "      <th rowspan=\"2\" valign=\"top\">16</th>\n",
       "      <th>20</th>\n",
       "      <td>3</td>\n",
       "      <td>Female</td>\n",
       "      <td>6</td>\n",
       "    </tr>\n",
       "    <tr>\n",
       "      <th>23</th>\n",
       "      <td>4</td>\n",
       "      <td>Female</td>\n",
       "      <td>77</td>\n",
       "    </tr>\n",
       "    <tr>\n",
       "      <th>17</th>\n",
       "      <th>22</th>\n",
       "      <td>6</td>\n",
       "      <td>Female</td>\n",
       "      <td>76</td>\n",
       "    </tr>\n",
       "    <tr>\n",
       "      <th>...</th>\n",
       "      <th>...</th>\n",
       "      <td>...</td>\n",
       "      <td>...</td>\n",
       "      <td>...</td>\n",
       "    </tr>\n",
       "    <tr>\n",
       "      <th>120</th>\n",
       "      <th>47</th>\n",
       "      <td>195</td>\n",
       "      <td>Female</td>\n",
       "      <td>16</td>\n",
       "    </tr>\n",
       "    <tr>\n",
       "      <th rowspan=\"2\" valign=\"top\">126</th>\n",
       "      <th>32</th>\n",
       "      <td>198</td>\n",
       "      <td>Male</td>\n",
       "      <td>74</td>\n",
       "    </tr>\n",
       "    <tr>\n",
       "      <th>45</th>\n",
       "      <td>197</td>\n",
       "      <td>Female</td>\n",
       "      <td>28</td>\n",
       "    </tr>\n",
       "    <tr>\n",
       "      <th rowspan=\"2\" valign=\"top\">137</th>\n",
       "      <th>30</th>\n",
       "      <td>200</td>\n",
       "      <td>Male</td>\n",
       "      <td>83</td>\n",
       "    </tr>\n",
       "    <tr>\n",
       "      <th>32</th>\n",
       "      <td>199</td>\n",
       "      <td>Male</td>\n",
       "      <td>18</td>\n",
       "    </tr>\n",
       "  </tbody>\n",
       "</table>\n",
       "<p>192 rows × 3 columns</p>\n",
       "</div>"
      ],
      "text/plain": [
       "                   CustomerID   Genre  Spending_Score\n",
       "Annual_Income Age                                    \n",
       "15            19            1    Male              39\n",
       "              21            2    Male              81\n",
       "16            20            3  Female               6\n",
       "              23            4  Female              77\n",
       "17            22            6  Female              76\n",
       "...                       ...     ...             ...\n",
       "120           47          195  Female              16\n",
       "126           32          198    Male              74\n",
       "              45          197  Female              28\n",
       "137           30          200    Male              83\n",
       "              32          199    Male              18\n",
       "\n",
       "[192 rows x 3 columns]"
      ]
     },
     "execution_count": 10,
     "metadata": {},
     "output_type": "execute_result"
    }
   ],
   "source": [
    "Genre = mall_customers.groupby(\"Age\")\n",
    "#Grouping a dataframe by the selected option.\n",
    "Genre.first()\n",
    "#prints the first entries\n",
    "Genre.get_group(20)\n",
    "#Displays the group '20' in the Age column\n",
    "\n",
    "grouping = mall_customers.groupby([\"Age\", \"Annual_Income\"])\n",
    "# Groups a dataframe by Age and displays the Annual Income of the groups.\n",
    "print(grouping.first())\n",
    "\n",
    "#Displays the group of Age with their Annual Income\n",
    "\n",
    "gro = mall_customers.groupby([\"Annual_Income\", \"Age\"])\n",
    "#Groups a dataframe by Annual Income and displays the Age of the group\n",
    "gro.first()\n",
    "#Displays the group of Annual Income with their Age."
   ]
  },
  {
   "cell_type": "code",
   "execution_count": 11,
   "id": "ccc6df29",
   "metadata": {},
   "outputs": [
    {
     "data": {
      "text/html": [
       "<div>\n",
       "<style scoped>\n",
       "    .dataframe tbody tr th:only-of-type {\n",
       "        vertical-align: middle;\n",
       "    }\n",
       "\n",
       "    .dataframe tbody tr th {\n",
       "        vertical-align: top;\n",
       "    }\n",
       "\n",
       "    .dataframe thead th {\n",
       "        text-align: right;\n",
       "    }\n",
       "</style>\n",
       "<table border=\"1\" class=\"dataframe\">\n",
       "  <thead>\n",
       "    <tr style=\"text-align: right;\">\n",
       "      <th></th>\n",
       "      <th>CustomerID</th>\n",
       "      <th>Genre</th>\n",
       "      <th>Age</th>\n",
       "      <th>Annual_Income</th>\n",
       "      <th>Spending_Score</th>\n",
       "    </tr>\n",
       "  </thead>\n",
       "  <tbody>\n",
       "    <tr>\n",
       "      <th>count</th>\n",
       "      <td>200.000000</td>\n",
       "      <td>200</td>\n",
       "      <td>200.000000</td>\n",
       "      <td>200.000000</td>\n",
       "      <td>200.000000</td>\n",
       "    </tr>\n",
       "    <tr>\n",
       "      <th>unique</th>\n",
       "      <td>NaN</td>\n",
       "      <td>2</td>\n",
       "      <td>NaN</td>\n",
       "      <td>NaN</td>\n",
       "      <td>NaN</td>\n",
       "    </tr>\n",
       "    <tr>\n",
       "      <th>top</th>\n",
       "      <td>NaN</td>\n",
       "      <td>Female</td>\n",
       "      <td>NaN</td>\n",
       "      <td>NaN</td>\n",
       "      <td>NaN</td>\n",
       "    </tr>\n",
       "    <tr>\n",
       "      <th>freq</th>\n",
       "      <td>NaN</td>\n",
       "      <td>112</td>\n",
       "      <td>NaN</td>\n",
       "      <td>NaN</td>\n",
       "      <td>NaN</td>\n",
       "    </tr>\n",
       "    <tr>\n",
       "      <th>mean</th>\n",
       "      <td>100.500000</td>\n",
       "      <td>NaN</td>\n",
       "      <td>38.850000</td>\n",
       "      <td>60.560000</td>\n",
       "      <td>50.200000</td>\n",
       "    </tr>\n",
       "    <tr>\n",
       "      <th>std</th>\n",
       "      <td>57.879185</td>\n",
       "      <td>NaN</td>\n",
       "      <td>13.969007</td>\n",
       "      <td>26.264721</td>\n",
       "      <td>25.823522</td>\n",
       "    </tr>\n",
       "    <tr>\n",
       "      <th>min</th>\n",
       "      <td>1.000000</td>\n",
       "      <td>NaN</td>\n",
       "      <td>18.000000</td>\n",
       "      <td>15.000000</td>\n",
       "      <td>1.000000</td>\n",
       "    </tr>\n",
       "    <tr>\n",
       "      <th>25%</th>\n",
       "      <td>50.750000</td>\n",
       "      <td>NaN</td>\n",
       "      <td>28.750000</td>\n",
       "      <td>41.500000</td>\n",
       "      <td>34.750000</td>\n",
       "    </tr>\n",
       "    <tr>\n",
       "      <th>50%</th>\n",
       "      <td>100.500000</td>\n",
       "      <td>NaN</td>\n",
       "      <td>36.000000</td>\n",
       "      <td>61.500000</td>\n",
       "      <td>50.000000</td>\n",
       "    </tr>\n",
       "    <tr>\n",
       "      <th>75%</th>\n",
       "      <td>150.250000</td>\n",
       "      <td>NaN</td>\n",
       "      <td>49.000000</td>\n",
       "      <td>78.000000</td>\n",
       "      <td>73.000000</td>\n",
       "    </tr>\n",
       "    <tr>\n",
       "      <th>max</th>\n",
       "      <td>200.000000</td>\n",
       "      <td>NaN</td>\n",
       "      <td>70.000000</td>\n",
       "      <td>137.000000</td>\n",
       "      <td>99.000000</td>\n",
       "    </tr>\n",
       "  </tbody>\n",
       "</table>\n",
       "</div>"
      ],
      "text/plain": [
       "        CustomerID   Genre         Age  Annual_Income  Spending_Score\n",
       "count   200.000000     200  200.000000     200.000000      200.000000\n",
       "unique         NaN       2         NaN            NaN             NaN\n",
       "top            NaN  Female         NaN            NaN             NaN\n",
       "freq           NaN     112         NaN            NaN             NaN\n",
       "mean    100.500000     NaN   38.850000      60.560000       50.200000\n",
       "std      57.879185     NaN   13.969007      26.264721       25.823522\n",
       "min       1.000000     NaN   18.000000      15.000000        1.000000\n",
       "25%      50.750000     NaN   28.750000      41.500000       34.750000\n",
       "50%     100.500000     NaN   36.000000      61.500000       50.000000\n",
       "75%     150.250000     NaN   49.000000      78.000000       73.000000\n",
       "max     200.000000     NaN   70.000000     137.000000       99.000000"
      ]
     },
     "execution_count": 11,
     "metadata": {},
     "output_type": "execute_result"
    }
   ],
   "source": [
    "Annual_sum = sum(mall_customers[\"Annual_Income\"])\n",
    "Spending_sum = sum (mall_customers[\"Spending_Score\"])\n",
    "range (len(mall_customers[\"Annual_Income\"]))\n",
    "mall_customers.describe(include = \"all\")"
   ]
  },
  {
   "cell_type": "code",
   "execution_count": null,
   "id": "e8411330",
   "metadata": {},
   "outputs": [],
   "source": []
  },
  {
   "cell_type": "code",
   "execution_count": null,
   "id": "5849c8be",
   "metadata": {},
   "outputs": [],
   "source": []
  }
 ],
 "metadata": {
  "kernelspec": {
   "display_name": "Python 3 (ipykernel)",
   "language": "python",
   "name": "python3"
  },
  "language_info": {
   "codemirror_mode": {
    "name": "ipython",
    "version": 3
   },
   "file_extension": ".py",
   "mimetype": "text/x-python",
   "name": "python",
   "nbconvert_exporter": "python",
   "pygments_lexer": "ipython3",
   "version": "3.9.7"
  }
 },
 "nbformat": 4,
 "nbformat_minor": 5
}
