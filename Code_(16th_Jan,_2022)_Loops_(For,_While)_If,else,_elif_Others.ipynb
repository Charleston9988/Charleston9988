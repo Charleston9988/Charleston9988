{
  "cells": [
    {
      "cell_type": "markdown",
      "metadata": {
        "id": "view-in-github",
        "colab_type": "text"
      },
      "source": [
        "<a href=\"https://colab.research.google.com/github/Charleston9988/Charleston9988/blob/main/Code_(16th_Jan%2C_2022)_Loops_(For%2C_While)_If%2Celse%2C_elif_Others.ipynb\" target=\"_parent\"><img src=\"https://colab.research.google.com/assets/colab-badge.svg\" alt=\"Open In Colab\"/></a>"
      ]
    },
    {
      "cell_type": "code",
      "execution_count": null,
      "id": "19528b38",
      "metadata": {
        "id": "19528b38"
      },
      "outputs": [],
      "source": [
        "x = 3\n",
        "bin (x)\n",
        "#converts the value to binary.\n",
        "y = 8\n",
        "z = 5\n",
        "w = 9\n",
        "~w\n",
        "#this is a bitwise operator. It adds 1 to the value and makes it negative.\n",
        "j = z | y\n",
        "#This is a bitwise operator. It represents OR. \n",
        "k = z & x\n",
        "#A bitwise operator. represents AND\n",
        "g = z & y\n",
        "p = w ^ z\n",
        "#A bitwise operator. XOR.\n",
        "m = w >> 1\n",
        "# shifts the binary to the right. The first number by the left is removed\n",
        "v = w << 1\n",
        "#shifts the binary to the left. Zero is added to the last number by the right."
      ]
    },
    {
      "cell_type": "code",
      "execution_count": null,
      "id": "ac44caa7",
      "metadata": {
        "id": "ac44caa7",
        "outputId": "4517d06a-4996-4b5f-e386-8b040073818b"
      },
      "outputs": [
        {
          "name": "stdout",
          "output_type": "stream",
          "text": [
            "0b11\n",
            "0b1000\n",
            "0b101\n",
            "0b1101\n",
            "13\n",
            "0b1\n",
            "1\n",
            "0b1001\n",
            "-10\n",
            "12\n",
            "0b1100\n",
            "4\n",
            "0b100\n",
            "18\n",
            "0b10010\n"
          ]
        }
      ],
      "source": [
        "print (bin(x))\n",
        "#Prints the binary value of x\n",
        "print (bin(y))\n",
        "print (bin(z))\n",
        "print (bin(j))\n",
        "print (j)\n",
        "print (bin(k))\n",
        "print (k)\n",
        "print (bin(w))\n",
        "print (~w)\n",
        "print (p)\n",
        "print (bin(p))\n",
        "print (m)\n",
        "print (bin(m))\n",
        "print (v)\n",
        "print (bin(v))"
      ]
    },
    {
      "cell_type": "code",
      "execution_count": null,
      "id": "7a411f3f",
      "metadata": {
        "id": "7a411f3f",
        "outputId": "1c6e2f87-095e-4552-e747-28fdb1c81725"
      },
      "outputs": [
        {
          "name": "stdout",
          "output_type": "stream",
          "text": [
            "ik and halim\n",
            "True\n",
            "false\n",
            "True\n"
          ]
        }
      ],
      "source": [
        "fearless_city_lodge = {\"room_1\": [\"faithful\" , \"justin\"], \"room_2\": \"jojo\", \"room_8\": \"ben and vic\", \"room_7\": \"uganda babe\", \\\n",
        "                      \"room_6\": \"ik and halim\", \"room_3\" : \"the twins\", \"room_4\": \"sb and huncho\", \"room_5\": \"ng and ola\"}\n",
        "\n",
        "print (fearless_city_lodge[\"room_6\"])\n",
        "print (\"room_3\" in fearless_city_lodge)\n",
        "if \"jojo\" in fearless_city_lodge:\n",
        "    print (fearless_city_lodge)\n",
        "else:\n",
        "    print (\"false\")\n",
        "if \"ik\" not in fearless_city_lodge:\n",
        "    print (\"True\")\n",
        "else:\n",
        "    print (\"false\")"
      ]
    },
    {
      "cell_type": "code",
      "execution_count": null,
      "id": "b0a6ced3",
      "metadata": {
        "id": "b0a6ced3",
        "outputId": "3f9be322-77d6-4f1e-ffd3-5862b074f699"
      },
      "outputs": [
        {
          "name": "stdout",
          "output_type": "stream",
          "text": [
            "Enter price: \n"
          ]
        },
        {
          "ename": "ValueError",
          "evalue": "invalid literal for int() with base 10: ''",
          "output_type": "error",
          "traceback": [
            "\u001b[1;31m---------------------------------------------------------------------------\u001b[0m",
            "\u001b[1;31mValueError\u001b[0m                                Traceback (most recent call last)",
            "\u001b[1;32m~\\AppData\\Local\\Temp/ipykernel_9420/1218383285.py\u001b[0m in \u001b[0;36m<module>\u001b[1;34m\u001b[0m\n\u001b[1;32m----> 1\u001b[1;33m \u001b[0mprice\u001b[0m \u001b[1;33m=\u001b[0m \u001b[0mint\u001b[0m\u001b[1;33m(\u001b[0m\u001b[0minput\u001b[0m\u001b[1;33m(\u001b[0m\u001b[1;34m\"Enter price: \"\u001b[0m\u001b[1;33m)\u001b[0m\u001b[1;33m)\u001b[0m\u001b[1;33m\u001b[0m\u001b[1;33m\u001b[0m\u001b[0m\n\u001b[0m\u001b[0;32m      2\u001b[0m \u001b[1;31m#int(input()) is used when the value changes. Input is then used to input recurring values.\u001b[0m\u001b[1;33m\u001b[0m\u001b[1;33m\u001b[0m\u001b[0m\n\u001b[0;32m      3\u001b[0m \u001b[0mqty\u001b[0m \u001b[1;33m=\u001b[0m \u001b[0mint\u001b[0m\u001b[1;33m(\u001b[0m\u001b[0minput\u001b[0m\u001b[1;33m(\u001b[0m\u001b[1;34m\"Enter qty: \"\u001b[0m\u001b[1;33m)\u001b[0m\u001b[1;33m)\u001b[0m\u001b[1;33m\u001b[0m\u001b[1;33m\u001b[0m\u001b[0m\n\u001b[0;32m      4\u001b[0m \u001b[0mamt\u001b[0m \u001b[1;33m=\u001b[0m \u001b[0mprice\u001b[0m \u001b[1;33m*\u001b[0m \u001b[0mqty\u001b[0m\u001b[1;33m\u001b[0m\u001b[1;33m\u001b[0m\u001b[0m\n\u001b[0;32m      5\u001b[0m \u001b[1;32mif\u001b[0m \u001b[0mamt\u001b[0m \u001b[1;33m>\u001b[0m \u001b[1;36m5000\u001b[0m\u001b[1;33m:\u001b[0m\u001b[1;33m\u001b[0m\u001b[1;33m\u001b[0m\u001b[0m\n",
            "\u001b[1;31mValueError\u001b[0m: invalid literal for int() with base 10: ''"
          ]
        }
      ],
      "source": [
        "price = int(input(\"Enter price: \"))\n",
        "#int(input()) is used when the value changes. Input is then used to input recurring values.\n",
        "qty = int(input(\"Enter qty: \"))\n",
        "amt = price * qty\n",
        "if amt > 5000:\n",
        "    print(\"10% is discounted\")\n",
        "    discount = amt * 10/100\n",
        "    amt = amt - discount\n",
        "else:\n",
        "    print (\"No discount\")\n",
        "print (\"Amount payable:\", amt)\n",
        "#the if and else conditions. Do not forget \":\" because it makes the argument valid."
      ]
    },
    {
      "cell_type": "code",
      "execution_count": null,
      "id": "eeb59b3a",
      "metadata": {
        "id": "eeb59b3a",
        "outputId": "3a2b006c-1424-49c6-a3c0-6981222f5be2"
      },
      "outputs": [
        {
          "name": "stdout",
          "output_type": "stream",
          "text": [
            "Flight fare: \n"
          ]
        },
        {
          "ename": "ValueError",
          "evalue": "invalid literal for int() with base 10: ''",
          "output_type": "error",
          "traceback": [
            "\u001b[1;31m---------------------------------------------------------------------------\u001b[0m",
            "\u001b[1;31mValueError\u001b[0m                                Traceback (most recent call last)",
            "\u001b[1;32m~\\AppData\\Local\\Temp/ipykernel_9420/944801345.py\u001b[0m in \u001b[0;36m<module>\u001b[1;34m\u001b[0m\n\u001b[1;32m----> 1\u001b[1;33m \u001b[0mp\u001b[0m \u001b[1;33m=\u001b[0m \u001b[0mint\u001b[0m\u001b[1;33m(\u001b[0m\u001b[0minput\u001b[0m\u001b[1;33m(\u001b[0m\u001b[1;34m\"Flight fare: \"\u001b[0m\u001b[1;33m)\u001b[0m\u001b[1;33m)\u001b[0m\u001b[1;33m\u001b[0m\u001b[1;33m\u001b[0m\u001b[0m\n\u001b[0m\u001b[0;32m      2\u001b[0m \u001b[1;31m# p = price\u001b[0m\u001b[1;33m\u001b[0m\u001b[1;33m\u001b[0m\u001b[0m\n\u001b[0;32m      3\u001b[0m \u001b[0mnop\u001b[0m \u001b[1;33m=\u001b[0m \u001b[0mint\u001b[0m\u001b[1;33m(\u001b[0m\u001b[0minput\u001b[0m\u001b[1;33m(\u001b[0m\u001b[1;34m\"NOP: \"\u001b[0m\u001b[1;33m)\u001b[0m\u001b[1;33m)\u001b[0m\u001b[1;33m\u001b[0m\u001b[1;33m\u001b[0m\u001b[0m\n\u001b[0;32m      4\u001b[0m \u001b[1;31m#number_of_passengers\u001b[0m\u001b[1;33m\u001b[0m\u001b[1;33m\u001b[0m\u001b[0m\n\u001b[0;32m      5\u001b[0m \u001b[0mtot\u001b[0m \u001b[1;33m=\u001b[0m \u001b[0mp\u001b[0m \u001b[1;33m*\u001b[0m \u001b[0mnop\u001b[0m\u001b[1;33m\u001b[0m\u001b[1;33m\u001b[0m\u001b[0m\n",
            "\u001b[1;31mValueError\u001b[0m: invalid literal for int() with base 10: ''"
          ]
        }
      ],
      "source": [
        "p = int(input(\"Flight fare: \"))\n",
        "# p = price\n",
        "nop = int(input(\"NOP: \"))\n",
        "#number_of_passengers\n",
        "tot = p * nop\n",
        "#tot = total amount spent\n",
        "if tot > 100000:\n",
        "    print(\"The trip fare is expensive\")\n",
        "elif tot > 80000 and tot < 100000:\n",
        "    print (\"The trip fare is fair\")\n",
        "elif tot > 50000 and tot < 80000:\n",
        "    print (\"The trip fare is cheap but not very cheap\")\n",
        "else:\n",
        "    print (\"The trip fare is very cheap\")"
      ]
    },
    {
      "cell_type": "code",
      "execution_count": null,
      "id": "4703da04",
      "metadata": {
        "id": "4703da04",
        "outputId": "89c1c167-4f5e-44a1-e29d-c0cbbd145e33"
      },
      "outputs": [
        {
          "name": "stdout",
          "output_type": "stream",
          "text": [
            "[20, 30, 35, 10, 58, 25]\n",
            "20\n",
            "30\n",
            "35\n",
            "10\n",
            "58\n",
            "25\n"
          ]
        }
      ],
      "source": [
        "practice = [20, 30, 35, 10, 58, 25]\n",
        "print (practice)\n",
        "for p in practice:\n",
        "    print (p)\n"
      ]
    },
    {
      "cell_type": "code",
      "execution_count": null,
      "id": "cad080f5",
      "metadata": {
        "id": "cad080f5",
        "outputId": "e5256cac-5cfe-42ab-c22b-815df27584b6"
      },
      "outputs": [
        {
          "name": "stdout",
          "output_type": "stream",
          "text": [
            "20\n",
            "15\n",
            "10\n",
            "5\n"
          ]
        }
      ],
      "source": [
        "while p > 5:\n",
        "    p = p - 5\n",
        "    print (p)"
      ]
    },
    {
      "cell_type": "code",
      "execution_count": null,
      "id": "0acf444a",
      "metadata": {
        "id": "0acf444a",
        "outputId": "e79d964d-d60f-480f-aa04-6a0aef6f0ab2"
      },
      "outputs": [
        {
          "name": "stdout",
          "output_type": "stream",
          "text": [
            "0\n",
            "1\n",
            "2\n",
            "3\n",
            "4\n",
            "5\n",
            "6\n",
            "7\n",
            "8\n",
            "9\n",
            "'For' loops has finished!\n",
            "1\n",
            "2\n",
            "3\n",
            "4\n",
            "5\n",
            "6\n",
            "7\n",
            "8\n",
            "9\n",
            "Range starts from 1\n",
            "1\n",
            "3\n",
            "5\n",
            "7\n",
            "9\n"
          ]
        }
      ],
      "source": [
        "for b in range (10):\n",
        "    print (b)\n",
        "print (\"'For' loops has finished!\")\n",
        "for h in range (1, 10):\n",
        "    print (h)\n",
        "print (\"Range starts from 1\")\n",
        "for z in range (1, 10, 2):\n",
        "    print (z)"
      ]
    },
    {
      "cell_type": "code",
      "execution_count": null,
      "id": "781c2e06",
      "metadata": {
        "id": "781c2e06",
        "outputId": "6b9ca6e1-9ff7-40af-f988-bb0ea34006b3"
      },
      "outputs": [
        {
          "name": "stdout",
          "output_type": "stream",
          "text": [
            "0\n",
            "20\n",
            "50\n",
            "85\n",
            "95\n"
          ]
        }
      ],
      "source": [
        "practice = [20, 30, 35, 10, 58, 25]\n",
        "\n",
        "sol = 0\n",
        "ind = 0\n",
        "while sol < 150:\n",
        "    print (sol)\n",
        "    sol = sol + practice [ind]\n",
        "    ind = ind + 1\n"
      ]
    },
    {
      "cell_type": "code",
      "execution_count": null,
      "id": "6fa10a11",
      "metadata": {
        "id": "6fa10a11",
        "outputId": "52a07f66-fb40-4e43-d888-e33c592e463a"
      },
      "outputs": [
        {
          "name": "stdout",
          "output_type": "stream",
          "text": [
            "20\n",
            "30\n",
            "35\n",
            "10\n",
            "The loop is stopped\n"
          ]
        }
      ],
      "source": [
        "practice = [20, 30, 35, 10, 58, 25]\n",
        "\n",
        "for i in practice:\n",
        "    print (i)\n",
        "    if i == 10:\n",
        "        print (\"The loop is stopped\")\n",
        "        break"
      ]
    },
    {
      "cell_type": "code",
      "execution_count": null,
      "id": "9f739681",
      "metadata": {
        "id": "9f739681",
        "outputId": "8dd0ef7e-6b99-4ef2-8698-77aee435c7d0"
      },
      "outputs": [
        {
          "name": "stdout",
          "output_type": "stream",
          "text": [
            "20\n",
            "30\n",
            "35\n",
            "10\n",
            "Looped\n"
          ]
        }
      ],
      "source": [
        "ind = 0\n",
        "while ind < len(practice):\n",
        "    key = practice[ind]\n",
        "    print (key)\n",
        "    \n",
        "    if key == 10:\n",
        "        print (\"Looped\")\n",
        "        break\n",
        "    ind += 1\n",
        "    "
      ]
    },
    {
      "cell_type": "code",
      "execution_count": null,
      "id": "b8ed9e88",
      "metadata": {
        "id": "b8ed9e88",
        "outputId": "56a6d03c-4568-4641-9ca7-929b6bb0a355"
      },
      "outputs": [
        {
          "name": "stdout",
          "output_type": "stream",
          "text": [
            "16\n",
            "[3, 7, 8, 6, 1, 2]\n",
            "[]\n",
            "2,1,0,-1,-2,-3,-4,"
          ]
        }
      ],
      "source": [
        "x = 2*2**3\n",
        "\n",
        "print(x) \n",
        "no = \" Hello World \"\n",
        "no.strip()\n",
        "#used to remove whitespace at the beginning and end of a string\n",
        "lst = [3,4,6,1,2]\n",
        "lst[1:2] = [7,8]\n",
        "print(lst)\n",
        "youp = []*3\n",
        "print (youp)\n",
        "\n",
        "for num in range(2,-5,-1):\n",
        "\n",
        "  print(num, end = \",\")\n",
        "#Another method of writing range\n"
      ]
    },
    {
      "cell_type": "code",
      "execution_count": null,
      "id": "6e93f99b",
      "metadata": {
        "id": "6e93f99b",
        "outputId": "af82ce62-2314-4411-e473-697f02814357"
      },
      "outputs": [
        {
          "name": "stdout",
          "output_type": "stream",
          "text": [
            "10 Chair\n",
            "10 Table\n",
            "20 Chair\n",
            "20 Table\n",
            "0\n",
            "1\n",
            "2\n",
            "3\n",
            "4\n",
            "5\n",
            "6\n",
            "7\n",
            "good\n",
            "good\n",
            "good\n",
            "good\n",
            "good\n",
            "good\n",
            "good\n",
            "0\n",
            "2\n",
            "4\n",
            "This is the first range\n",
            "5\n",
            "3\n",
            "1\n",
            "This is the second range\n",
            "100\n"
          ]
        }
      ],
      "source": [
        "numbers = [10, 20]\n",
        "\n",
        "items = [\"Chair\", \"Table\"]\n",
        "\n",
        "for x in numbers:\n",
        "\n",
        "    for y in items:\n",
        "\n",
        "        print(x, y)\n",
        "    \n",
        "for i in range(0,8):\n",
        "    print (i)\n",
        "    \n",
        "hot = 0\n",
        "while hot<7: \n",
        "    print (\"good\")\n",
        "    hot+=1\n",
        "for k in range (0, 5, 2):\n",
        "    print (k)\n",
        "print (\"This is the first range\")\n",
        "for r in range (5, 0, -2):\n",
        "    print (r)\n",
        "print (\"This is the second range\")\n",
        "\n",
        "car = 0\n",
        "while car < 100 :\n",
        "    car += 2\n",
        "print (car)"
      ]
    },
    {
      "cell_type": "code",
      "execution_count": null,
      "id": "089d3596",
      "metadata": {
        "id": "089d3596",
        "outputId": "653c10d1-729c-442b-a98c-d04685e77f86"
      },
      "outputs": [
        {
          "name": "stdout",
          "output_type": "stream",
          "text": [
            "Abia - Umuahia\n",
            "Adamawa - Yola\n",
            "Akwa-ibom - Uyo\n",
            "{'Abia': 'Umuahia', 'Adamawa': 'Yola', 'Akwa-ibom': 'Uyo', 'Imo': 'Owerri', 'Anambra': ['Wakwa', 'Onitsha', 'Awka', 'Fezel', 'Fegge']}\n",
            "{'Abia': 'Umuahia', 'Adamawa': 'Yola', 'Akwa-ibom': 'Uyo', 'Imo': 'Owerri', 'Anambra': ['Awka', 'Fegge', 'Fezel', 'Onitsha', 'Wakwa']}\n",
            "{'Abia': 'Umuahia', 'Adamawa': 'Yola', 'Akwa-ibom': 'Uyo', 'Imo': 'Owerri', 'Anambra': ['Awka', 'Fegge', 'Fezel', 'Onitsha']}\n",
            "{'Abia': 'Umuahia', 'Adamawa': 'Yola', 'Akwa-ibom': 'Uyo', 'Imo': 'Owerri', 'Anambra': ['Awka', 'Fegge', 'Fezel', 'Onitsha'], 'Total': 5}\n",
            "{'Abia': 'Umuahia', 'Adamawa': 'Yola', 'Akwa-ibom': 'Uyo', 'Imo': 'Owerri', 'Anambra': ['Awka', 'Fegge', 'Fezel', 'Onitsha'], 'Total': 5}\n"
          ]
        }
      ],
      "source": [
        "Nigeria = {\"Abia\": \"Umuahia\", \"Adamawa\": \"Yola\", \"Akwa-ibom\": \"Uyo\"}\n",
        "\n",
        "for key, value in Nigeria.items():\n",
        "    print (key, \"-\", value)\n",
        "#Looping for dictionaries. Use items to be able to loop the key and value.    \n",
        "\n",
        "Nigeria [\"Imo\"] = \"Owerri\"\n",
        "Nigeria [\"Anambra\"] = [\"Wakwa\", \"Onitsha\", \"Awka\", \"Fezel\", \"Fegge\"]\n",
        "#Adding New entries in a Dictionary\n",
        "print (Nigeria)\n",
        "\n",
        "Nigeria[\"Anambra\"].sort()\n",
        "#sorts a list in the dictionary\n",
        "print (Nigeria)\n",
        "\n",
        "Nigeria[\"Anambra\"].remove(\"Wakwa\")\n",
        "#Removes the value in the box() from the selected key\n",
        "print (Nigeria)\n",
        "\n",
        "Nigeria[\"Total\"] = len(Nigeria)\n",
        "print (Nigeria)\n",
        "\n",
        "Nigeria[\"Total\"] - 2\n",
        "#Subtracts 2 from the value of Total\n",
        "print (Nigeria)"
      ]
    },
    {
      "cell_type": "code",
      "execution_count": null,
      "id": "6132f17e",
      "metadata": {
        "id": "6132f17e",
        "outputId": "279cf6aa-5354-4434-cc5c-ab20ffa4b3cc"
      },
      "outputs": [
        {
          "name": "stdout",
          "output_type": "stream",
          "text": [
            "True\n",
            "12\n",
            "5\n",
            "11\n",
            "13\n"
          ]
        }
      ],
      "source": [
        "a , b , c , d = 12 , 5 , 2, 9\n",
        "\n",
        "if a + b == 17:\n",
        "    print (\"True\")\n",
        "else:\n",
        "    print (\"False\")\n",
        "print (a)\n",
        "print (b)\n",
        "\n",
        "for num in range (10,14):\n",
        "    for i in range (2,num):\n",
        "        if num % 2 == 1:\n",
        "            print (num)\n",
        "            break"
      ]
    },
    {
      "cell_type": "code",
      "execution_count": null,
      "id": "09056d0a",
      "metadata": {
        "id": "09056d0a",
        "outputId": "d76825a3-b895-4dae-e1f7-0bed9ed788ea"
      },
      "outputs": [
        {
          "name": "stdout",
          "output_type": "stream",
          "text": [
            "21\n",
            "['john', 'peter']\n"
          ]
        }
      ],
      "source": [
        "var = 10\n",
        "for i in range (10):\n",
        "    for j in range (2,10,1):\n",
        "        var % 2 == 0\n",
        "        continue\n",
        "        var += 1\n",
        "    var += 1\n",
        "else:\n",
        "    var += 1\n",
        "print (var)\n",
        "d = {\"john\":40, \"peter\":45}\n",
        "print (list(d.keys()))"
      ]
    },
    {
      "cell_type": "code",
      "execution_count": null,
      "id": "b1adc380",
      "metadata": {
        "id": "b1adc380",
        "outputId": "29645d89-1221-4922-add3-66e222092ce0"
      },
      "outputs": [
        {
          "name": "stdout",
          "output_type": "stream",
          "text": [
            "trophy trophy trophy \n",
            "8\n"
          ]
        }
      ],
      "source": [
        "def display (s, n):\n",
        "    print (s*n)\n",
        "    \n",
        "display (\"trophy \", 3)\n",
        "\n",
        "\n",
        "lis = [1,3,4]\n",
        "\n",
        "r = sum(lis)\n",
        "print (r)"
      ]
    },
    {
      "cell_type": "code",
      "execution_count": null,
      "id": "2e3612a2",
      "metadata": {
        "id": "2e3612a2",
        "outputId": "ab522cc7-5d73-48e0-c86c-1a5b56f74f69"
      },
      "outputs": [
        {
          "name": "stdout",
          "output_type": "stream",
          "text": [
            "None\n"
          ]
        }
      ],
      "source": [
        "ju = [2,4,5]\n",
        "t = sum(ju)\n",
        "print (t)"
      ]
    },
    {
      "cell_type": "code",
      "execution_count": null,
      "id": "e79dd1df",
      "metadata": {
        "id": "e79dd1df",
        "outputId": "b89cbe1a-5884-46e9-daae-301451a205c1"
      },
      "outputs": [
        {
          "name": "stdout",
          "output_type": "stream",
          "text": [
            "120\n"
          ]
        }
      ],
      "source": [
        "from math import factorial\n",
        "print (factorial(5))\n",
        "#5!"
      ]
    },
    {
      "cell_type": "code",
      "execution_count": null,
      "id": "72942924",
      "metadata": {
        "id": "72942924",
        "outputId": "8dab172c-1949-41a6-8f54-b7a6327e62f0"
      },
      "outputs": [
        {
          "name": "stdout",
          "output_type": "stream",
          "text": [
            "[[[50 45 56]\n",
            "  [60 28 29]\n",
            "  [49 20 28]]\n",
            "\n",
            " [[59 90 89]\n",
            "  [70 90 89]\n",
            "  [59 90 78]]\n",
            "\n",
            " [[59 90 89]\n",
            "  [70 90 89]\n",
            "  [59 90 78]]]\n",
            "3\n",
            "[[[50, 45, 56], [60, 28, 29], [49, 20, 28]], [[59, 90, 89], [70, 90, 89], [59, 90, 78]], [[59, 90, 89], [70, 90, 89], [59, 90, 78]]]\n"
          ]
        }
      ],
      "source": [
        "import numpy as np\n",
        "weights =np.array ([[50, 45, 56], [60,28,29], [49,20,28],\n",
        "       [59, 90, 89],\n",
        "       [ 70, 90, 89],\n",
        "       [ 59, 90, 78], [59, 90, 89],\n",
        "       [ 70, 90, 89],\n",
        "       [ 59, 90, 78]])\n",
        "weights = weights.reshape((3,3,3))\n",
        "#Reshape. Can also be used to convert a One dimension array into 2 or more dimensions.\n",
        "print (weights)\n",
        "print (weights.ndim)\n",
        "#Displays the dimension of the array\n",
        "print (weights.tolist())\n",
        "#Converts a Numpy array into a Python list"
      ]
    },
    {
      "cell_type": "code",
      "execution_count": null,
      "id": "e0a14887",
      "metadata": {
        "id": "e0a14887",
        "outputId": "1464e896-9ba4-4229-8559-7fc3f6a67df0"
      },
      "outputs": [
        {
          "name": "stdout",
          "output_type": "stream",
          "text": [
            "1\n",
            "2\n",
            "3\n",
            "4\n",
            "looped\n"
          ]
        }
      ],
      "source": [
        "my_list = [ 1, 2, 3, 4, \"stop\", 5, 6]\n",
        "for i in my_list:\n",
        "    if i == (\"stop\"):\n",
        "        print (\"looped\")\n",
        "        break\n",
        "    print (i)\n",
        "#the break function"
      ]
    },
    {
      "cell_type": "code",
      "execution_count": null,
      "id": "715856ac",
      "metadata": {
        "id": "715856ac",
        "outputId": "fb425abc-4116-463d-e934-8af75b8e5b4c"
      },
      "outputs": [
        {
          "name": "stdout",
          "output_type": "stream",
          "text": [
            "1\n",
            "2\n",
            "3\n",
            "4\n",
            "looped\n",
            "5\n",
            "6\n"
          ]
        }
      ],
      "source": [
        "my_list = [ 1, 2, 3, 4, \"stop\", 5, 6]\n",
        "for i in my_list:\n",
        "    if i == (\"stop\"):\n",
        "        print (\"looped\")\n",
        "        continue\n",
        "    print (i)\n",
        "#the continue function"
      ]
    },
    {
      "cell_type": "code",
      "execution_count": null,
      "id": "082b85d1",
      "metadata": {
        "id": "082b85d1",
        "outputId": "8b07e560-0c39-4780-aa9e-28d24094a97a"
      },
      "outputs": [
        {
          "name": "stdout",
          "output_type": "stream",
          "text": [
            "1\n",
            "2\n",
            "3\n",
            "4\n",
            "looped\n",
            "stop\n",
            "5\n",
            "6\n"
          ]
        }
      ],
      "source": [
        "my_list = [ 1, 2, 3, 4, \"stop\", 5, 6]\n",
        "for i in my_list:\n",
        "    if i == (\"stop\"):\n",
        "        print (\"looped\")\n",
        "        \n",
        "    print (i)\n",
        "#the code without break or continue"
      ]
    },
    {
      "cell_type": "code",
      "execution_count": null,
      "id": "6f074e63",
      "metadata": {
        "id": "6f074e63",
        "outputId": "543f567a-4c84-4c9d-8219-492a89cd34f8"
      },
      "outputs": [
        {
          "name": "stdout",
          "output_type": "stream",
          "text": [
            "[10, 8, 24, 74, 50, 86]\n"
          ]
        }
      ],
      "source": [
        "list_ages = [10 , 11 , 19 , 7 , 8 , 24 , 91 , 74 , 25 , 53 , 41 , 50 , 63 , 86]\n",
        "ages_even = []\n",
        "for current_ages in list_ages:\n",
        "    \n",
        "    if current_ages % 2 == 1:\n",
        "        continue\n",
        "    ages_even.append(current_ages)\n",
        "print (ages_even)"
      ]
    },
    {
      "cell_type": "code",
      "execution_count": null,
      "id": "0c714d9f",
      "metadata": {
        "id": "0c714d9f",
        "outputId": "c4300193-1e9d-4360-83fe-7966c64b11dd"
      },
      "outputs": [
        {
          "name": "stdout",
          "output_type": "stream",
          "text": [
            "[(1, 2), (3, 5), (6, 9)]\n"
          ]
        }
      ],
      "source": [
        "list_1 = [1, 3, 6]\n",
        "list_2 = [2, 5, 9]\n",
        "zipped = zip(list_1, list_2)\n",
        "print (list(zipped))\n",
        "#the zip function"
      ]
    },
    {
      "cell_type": "code",
      "execution_count": null,
      "id": "8c1fad58",
      "metadata": {
        "id": "8c1fad58",
        "outputId": "1983d948-1d22-4708-cd2d-1059690b6dcd"
      },
      "outputs": [
        {
          "name": "stdout",
          "output_type": "stream",
          "text": [
            "1 2\n",
            "3 5\n",
            "6 9\n"
          ]
        }
      ],
      "source": [
        "list_3 = [1, 3, 6]\n",
        "list_4 = [2, 5, 9]\n",
        "for p,y in zip(list_3, list_4):\n",
        "    print (p,y)"
      ]
    },
    {
      "cell_type": "code",
      "execution_count": null,
      "id": "c804ba01",
      "metadata": {
        "id": "c804ba01",
        "outputId": "3f4d347d-85fc-43e7-8299-232984050874"
      },
      "outputs": [
        {
          "name": "stdout",
          "output_type": "stream",
          "text": [
            "{'Micheal Ford': 80, 'John Buch': 53, 'Isra Raul': 90, 'Messi Ronaldo': 100}\n"
          ]
        }
      ],
      "source": [
        "students_names = [ \"Micheal Ford\", \"John Buch\" , \"Isra Raul\", \"Messi Ronaldo\"]\n",
        "\n",
        "students_grades = [ 80 , 53 , 90 , 100]\n",
        "\n",
        "names_grades = {}\n",
        "for s1, s2 in zip(students_names,students_grades):\n",
        "    names_grades[s1] = s2\n",
        "print (names_grades)\n",
        "#Converting zip function to a dictionary"
      ]
    },
    {
      "cell_type": "code",
      "execution_count": null,
      "id": "6f6c6f71",
      "metadata": {
        "id": "6f6c6f71",
        "outputId": "0f3abb17-9bc2-43e7-c615-7dc6916b9683"
      },
      "outputs": [
        {
          "name": "stdout",
          "output_type": "stream",
          "text": [
            "0 1\n",
            "1 3\n",
            "2 6\n"
          ]
        }
      ],
      "source": [
        "list_3 = [1, 3, 6]\n",
        "for m,n in enumerate(list_3):\n",
        "    print (m,n)\n",
        "#The enumerate function is a type of zip function but it takes only one argument\n",
        "#It uses a counter(m) that keeps record. "
      ]
    },
    {
      "cell_type": "code",
      "execution_count": null,
      "id": "220dd3d4",
      "metadata": {
        "id": "220dd3d4",
        "outputId": "4d90f1f7-5253-41b3-ba4b-1cef17977a1f"
      },
      "outputs": [
        {
          "name": "stdout",
          "output_type": "stream",
          "text": [
            "['Rachael Green: $10260', 'Goodfellow Ian: $41571', 'Tedd Crock: $71211', 'Mina Joseph: $52141']\n"
          ]
        }
      ],
      "source": [
        "names = [ \"Rachael Green\", \"Goodfellow Ian\", \"Tedd Crock\", \"Mina Joseph\"]\n",
        "salaries = [10260 , 41571 , 71211 , 52141 , 35781]\n",
        "people_salaries = []\n",
        "\n",
        "for n1,s1 in enumerate(names):\n",
        "    x = s1 + \":\" + \" $\"  + str(salaries[n1])\n",
        "    people_salaries.append(x)\n",
        "\n",
        "print (people_salaries)"
      ]
    },
    {
      "cell_type": "code",
      "execution_count": null,
      "id": "bf856c19",
      "metadata": {
        "id": "bf856c19",
        "outputId": "f0126998-a8b9-44d1-a159-2e86ae2c1483"
      },
      "outputs": [
        {
          "name": "stdout",
          "output_type": "stream",
          "text": [
            "{'Rachael Green': 10260, 'Goodfellow Ian': 41571, 'Tedd Crock': 71211, 'Mina Joseph': 52141}\n"
          ]
        }
      ],
      "source": [
        "names = [ \"Rachael Green\", \"Goodfellow Ian\", \"Tedd Crock\", \"Mina Joseph\"]\n",
        "salaries = [10260 , 41571 , 71211 , 52141, 9087987 ]\n",
        "people_salaries = {}\n",
        "\n",
        "for n1,s1 in zip(names, salaries):\n",
        "    people_salaries[n1] = s1\n",
        "\n",
        "print (people_salaries)"
      ]
    },
    {
      "cell_type": "code",
      "execution_count": null,
      "id": "6b965404",
      "metadata": {
        "id": "6b965404",
        "outputId": "a5e7b880-aeda-497e-ad4c-117c1f4aa31e"
      },
      "outputs": [
        {
          "name": "stdout",
          "output_type": "stream",
          "text": [
            "[1, 2, 3, 4, 5, 6, 7, 8, 9, 10, 11, 12, 13, 14, 15, 16, 17, 18, 19, 20]\n",
            "[1, 2, 3, 4, 5, 6, 7, 8, 9, 10, 11, 12, 13, 14, 15, 16, 17, 18, 19, 20]\n"
          ]
        }
      ],
      "source": [
        "#Easier way of printing a list\n",
        "list_com = [ i for i in range (1, 21) ]\n",
        "print (list_com)\n",
        "\n",
        "#instead of :\n",
        "list_hard = []\n",
        "for r in range (1, 21):\n",
        "    list_hard.append(r)\n",
        "print (list_hard)"
      ]
    },
    {
      "cell_type": "code",
      "execution_count": null,
      "id": "cf7ce9a8",
      "metadata": {
        "id": "cf7ce9a8",
        "outputId": "6bf9cc0a-4385-4e9d-d962-a7438bde74fc"
      },
      "outputs": [
        {
          "name": "stdout",
          "output_type": "stream",
          "text": [
            "['Joel Corry', 'James Bond', 'Lily Saqr']\n",
            "['Joel Corry', 'James Bond', 'Lily Saqr']\n"
          ]
        }
      ],
      "source": [
        "students_dict = { \"Joel Corry\" : 70, \"James Bond\" : 90, \"Fatma Ahmed\": 20, \"Lily Saqr\"  : 94, \"Ahmed Yan\"  : 40 }\n",
        "\n",
        "passed_students_names = []\n",
        "for keys, values in students_dict.items():\n",
        "    if values < 50 :\n",
        "        continue\n",
        "    \n",
        "    passed_students_names.append (keys)\n",
        "print (passed_students_names)\n",
        "#The continue function was used above. The keys for the values less than 50 ommitted.\n",
        "\n",
        "passed_students_names = []\n",
        "for keys, values in students_dict.items():\n",
        "    \n",
        "    if values > 50 :\n",
        "        passed_students_names.append (keys)\n",
        "print (passed_students_names)\n",
        "#The keys for the values greater than 50 is displayed/printed"
      ]
    },
    {
      "cell_type": "code",
      "execution_count": null,
      "id": "18cd90c6",
      "metadata": {
        "id": "18cd90c6",
        "outputId": "70ae5b17-e5c3-416c-f276-39bddbcad908"
      },
      "outputs": [
        {
          "name": "stdout",
          "output_type": "stream",
          "text": [
            "['Joel Corry', 'James Bond', 'Lily Saqr']\n"
          ]
        }
      ],
      "source": [
        "students_dict = { \"Joel Corry\" : 70, \"James Bond\" : 90, \"Fatma Ahmed\": 20, \"Lily Saqr\"  : 94, \"Ahmed Yan\"  : 40 }\n",
        "\n",
        "passed_students_names = [ keys for keys, values in students_dict.items() if values > 50] \n",
        "print (passed_students_names)\n",
        "#A shorter method of running the previous code"
      ]
    },
    {
      "cell_type": "code",
      "execution_count": null,
      "id": "27b955eb",
      "metadata": {
        "id": "27b955eb",
        "outputId": "83508ae7-bbdc-4d2e-dcd6-59e1ee5a51ca"
      },
      "outputs": [
        {
          "name": "stdout",
          "output_type": "stream",
          "text": [
            "['Joel', 'James', 'Lily']\n"
          ]
        }
      ],
      "source": [
        "passed_students_names = [name.split()[0] for name, x in students_dict.items() if x > 50]\n",
        "print (passed_students_names)\n",
        "#The use of the .split() function seperates strings. [0] was then used to select the first name only."
      ]
    },
    {
      "cell_type": "code",
      "execution_count": null,
      "id": "50d9fae5",
      "metadata": {
        "id": "50d9fae5",
        "outputId": "7fa831e7-c800-45da-97b3-029421026df4"
      },
      "outputs": [
        {
          "name": "stdout",
          "output_type": "stream",
          "text": [
            "20\n",
            "96\n",
            "9\n"
          ]
        }
      ],
      "source": [
        "def mult (x,y):\n",
        "    res = x*y\n",
        "    return res\n",
        "#Defining a function using the return function\n",
        "hji = mult (48,2)\n",
        "print (mult (4,5))\n",
        "print (hji)\n",
        "\n",
        "def add (um, io):\n",
        "    return um + io\n",
        "result = add (4,5)\n",
        "print (result)"
      ]
    },
    {
      "cell_type": "code",
      "execution_count": null,
      "id": "2beaff92",
      "metadata": {
        "id": "2beaff92",
        "outputId": "2f04bd30-7bad-4b1e-d64d-a8eb50c143d0"
      },
      "outputs": [
        {
          "name": "stdout",
          "output_type": "stream",
          "text": [
            "{'obi': 50, 'tho': 80}\n"
          ]
        }
      ],
      "source": [
        "students_names = [ \"Micheal Ford\", \"John Buch\" , \"Isra Raul\", \"Messi Ronaldo\"]\n",
        "\n",
        "students_grades = [ 80 , 53 , 90 , 100]\n",
        "def link_names_grades (students_names, students_grades):\n",
        "    names_grades = {}\n",
        "    for x , y in zip(students_names, students_grades):\n",
        "        names_grades [x] = y\n",
        "    return names_grades   \n",
        "stu = [\"obi\", \"tho\"]\n",
        "gra = [50, 80]\n",
        "lo = link_names_grades (stu, gra)\n",
        "print (lo)"
      ]
    },
    {
      "cell_type": "code",
      "execution_count": null,
      "id": "84ae994a",
      "metadata": {
        "id": "84ae994a",
        "outputId": "9c4d7d93-e0c5-4e3d-ab91-e8bc7c2f5f67"
      },
      "outputs": [
        {
          "data": {
            "text/plain": [
              "[10, 20]"
            ]
          },
          "execution_count": 411,
          "metadata": {},
          "output_type": "execute_result"
        }
      ],
      "source": [
        "numbers = [10, 20 , 17 , 13 ]\n",
        "even_or_odd = False\n",
        "def filter_even_odd (numbers, even_or_odd):\n",
        "    filtered_list = []\n",
        "    \n",
        "    for i in numbers:\n",
        "        if i % 2 == even_or_odd:\n",
        "            filtered_list.append(i)\n",
        "    return filtered_list\n",
        "filter_even_odd (numbers, even_or_odd)"
      ]
    },
    {
      "cell_type": "code",
      "execution_count": null,
      "id": "edd61226",
      "metadata": {
        "id": "edd61226",
        "outputId": "d2701d3d-a924-4469-e279-5a89faed2878"
      },
      "outputs": [
        {
          "name": "stdout",
          "output_type": "stream",
          "text": [
            "14\n",
            "8\n",
            "The First ends here\n",
            "\n",
            "14\n",
            "14\n"
          ]
        }
      ],
      "source": [
        "rest = 8\n",
        "def add (um, io):\n",
        "    rest = um +io\n",
        "    return rest\n",
        "hut = add (9,5)\n",
        "print (hut)\n",
        "print (rest)\n",
        "print (\"The First ends here\")\n",
        "#The intial value of rest(8) do not change because its a global variable while the rest in the function add its a local variable\n",
        "\n",
        "\n",
        "rest = 8\n",
        "def add (um, io):\n",
        "    \"\"\"\n",
        "    The add function adds two variables together. Triple quotation is used to document strings\n",
        "    \"\"\"\n",
        "    global rest\n",
        "    rest = um +io\n",
        "    return rest\n",
        "hut = add (9,5)\n",
        "print (\"\")\n",
        "print (hut)\n",
        "print (rest)\n",
        "#Using the global function we are referring to the intial value of rest which is a global variable\n",
        "#This alters the initial value of rest because it has been called in the add function where it takes a new command."
      ]
    },
    {
      "cell_type": "code",
      "execution_count": null,
      "id": "74286f32",
      "metadata": {
        "id": "74286f32"
      },
      "outputs": [],
      "source": [
        ""
      ]
    }
  ],
  "metadata": {
    "kernelspec": {
      "display_name": "Python 3 (ipykernel)",
      "language": "python",
      "name": "python3"
    },
    "language_info": {
      "codemirror_mode": {
        "name": "ipython",
        "version": 3
      },
      "file_extension": ".py",
      "mimetype": "text/x-python",
      "name": "python",
      "nbconvert_exporter": "python",
      "pygments_lexer": "ipython3",
      "version": "3.9.7"
    },
    "colab": {
      "name": "Code (16th Jan, 2022) - Loops (For, While). If,else, elif. Others.ipynb",
      "provenance": [],
      "include_colab_link": true
    }
  },
  "nbformat": 4,
  "nbformat_minor": 5
}