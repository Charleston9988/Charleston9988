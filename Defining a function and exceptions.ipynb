{
 "cells": [
  {
   "cell_type": "code",
   "execution_count": 1,
   "id": "eebcfb26",
   "metadata": {},
   "outputs": [
    {
     "name": "stdout",
     "output_type": "stream",
     "text": [
      "(25, 144, 169)\n"
     ]
    }
   ],
   "source": [
    "def pythagorean(a,b):\n",
    "    a_squared = a ** 2\n",
    "    b_squared = b ** 2\n",
    "    c_squared = a_squared + b_squared\n",
    "    return a_squared, b_squared, c_squared\n",
    "print(pythagorean(5,12))"
   ]
  },
  {
   "cell_type": "code",
   "execution_count": 2,
   "id": "8d24f61b",
   "metadata": {},
   "outputs": [
    {
     "name": "stdout",
     "output_type": "stream",
     "text": [
      "trophy trophy trophy \n",
      "8\n"
     ]
    }
   ],
   "source": [
    "def display (s, n):\n",
    "    print (s*n)\n",
    "    \n",
    "display (\"trophy \", 3)\n",
    "\n",
    "\n",
    "lis = [1,3,4]\n",
    "\n",
    "r = sum(lis)\n",
    "print (r)"
   ]
  },
  {
   "cell_type": "code",
   "execution_count": 3,
   "id": "66b145bc",
   "metadata": {},
   "outputs": [
    {
     "name": "stdout",
     "output_type": "stream",
     "text": [
      "20\n",
      "96\n",
      "9\n"
     ]
    }
   ],
   "source": [
    "def mult (x,y):\n",
    "    res = x*y\n",
    "    return res\n",
    "#Defining a function using the return function\n",
    "hji = mult (48,2)\n",
    "print (mult (4,5))\n",
    "print (hji)\n",
    "\n",
    "def add (um, io):\n",
    "    return um + io\n",
    "result = add (4,5)\n",
    "print (result)"
   ]
  },
  {
   "cell_type": "code",
   "execution_count": 4,
   "id": "c68e6399",
   "metadata": {},
   "outputs": [
    {
     "name": "stdout",
     "output_type": "stream",
     "text": [
      "{'obi': 50, 'tho': 80}\n",
      "{'Micheal Ford': 80, 'John Buch': 53, 'Isra Raul': 90, 'Messi Ronaldo': 100}\n"
     ]
    }
   ],
   "source": [
    "students_names = [ \"Micheal Ford\", \"John Buch\" , \"Isra Raul\", \"Messi Ronaldo\"]\n",
    "\n",
    "students_grades = [ 80 , 53 , 90 , 100]\n",
    "def link_names_grades (students_names, students_grades):\n",
    "    names_grades = {}\n",
    "    for x , y in zip(students_names, students_grades):\n",
    "        names_grades [x] = y\n",
    "    return names_grades  \n",
    "stu = [\"obi\", \"tho\"]\n",
    "gra = [50, 80]\n",
    "lo = link_names_grades (stu, gra)\n",
    "print (lo)\n",
    "lott = link_names_grades (students_names, students_grades)\n",
    "print (lott)"
   ]
  },
  {
   "cell_type": "code",
   "execution_count": 5,
   "id": "433187eb",
   "metadata": {},
   "outputs": [
    {
     "data": {
      "text/plain": [
       "[10, 20]"
      ]
     },
     "execution_count": 5,
     "metadata": {},
     "output_type": "execute_result"
    }
   ],
   "source": [
    "numbers = [10, 20 , 17 , 13 ]\n",
    "even_or_odd = False\n",
    "def filter_even_odd (numbers, even_or_odd):\n",
    "    filtered_list = []\n",
    "    \n",
    "    for i in numbers:\n",
    "        if i % 2 == even_or_odd:\n",
    "            filtered_list.append(i)\n",
    "    return filtered_list\n",
    "filter_even_odd (numbers, even_or_odd)"
   ]
  },
  {
   "cell_type": "code",
   "execution_count": 6,
   "id": "1aed9236",
   "metadata": {},
   "outputs": [
    {
     "name": "stdout",
     "output_type": "stream",
     "text": [
      "14\n",
      "8\n",
      "The First ends here\n",
      "\n",
      "14\n",
      "14\n"
     ]
    }
   ],
   "source": [
    "rest = 8\n",
    "def add (um, io):\n",
    "    rest = um +io\n",
    "    return rest\n",
    "hut = add (9,5)\n",
    "print (hut)\n",
    "print (rest)\n",
    "print (\"The First ends here\")\n",
    "#The intial value of rest(8) do not change because its a global variable while the rest in the function add its a local variable\n",
    "\n",
    "\n",
    "rest = 8\n",
    "def add (um, io):\n",
    "    \"\"\"\n",
    "    The add function adds two variables together. Triple quotation is used to document strings\n",
    "    \"\"\"\n",
    "    global rest\n",
    "    rest = um +io\n",
    "    return rest\n",
    "hut = add (9,5)\n",
    "print (\"\")\n",
    "print (hut)\n",
    "print (rest)\n",
    "#Using the global function we are referring to the intial value of rest which is a global variable\n",
    "#This alters the initial value of rest because it has been called in the add function where it takes a new command."
   ]
  },
  {
   "cell_type": "code",
   "execution_count": 7,
   "id": "c72eb7da",
   "metadata": {},
   "outputs": [
    {
     "name": "stdout",
     "output_type": "stream",
     "text": [
      "The chair costs $40.99.\n",
      "The book costs $12.84.\n",
      "The soap costs $3.95.\n"
     ]
    }
   ],
   "source": [
    "def price(item, cost):\n",
    "    print( \"The \" + item + \" costs $\" + str(cost) + \".\")\n",
    "\n",
    "price(\"chair\", 40.99)\n",
    "price(\"book\", 12.84)\n",
    "price(\"soap\", 3.95)\n"
   ]
  },
  {
   "cell_type": "code",
   "execution_count": 8,
   "id": "5fea8ec5",
   "metadata": {},
   "outputs": [
    {
     "name": "stdout",
     "output_type": "stream",
     "text": [
      "The chair costs $40.99.\n",
      "The book costs $12.84.\n",
      "The soap costs $3.95.\n"
     ]
    }
   ],
   "source": [
    "def price(item, cost):\n",
    "    return \"The \" + item + \" costs $\" + str(cost) + \".\"\n",
    "\n",
    "print(price(\"chair\", 40.99))\n",
    "print(price(\"book\", 12.84))\n",
    "print(price(\"soap\", 3.95))\n"
   ]
  },
  {
   "cell_type": "code",
   "execution_count": 32,
   "id": "0450ea4d",
   "metadata": {},
   "outputs": [
    {
     "ename": "Exception",
     "evalue": "Father's age must be greater than son's age",
     "output_type": "error",
     "traceback": [
      "\u001b[1;31m---------------------------------------------------------------------------\u001b[0m",
      "\u001b[1;31mException\u001b[0m                                 Traceback (most recent call last)",
      "\u001b[1;32m~\\AppData\\Local\\Temp/ipykernel_8848/865715999.py\u001b[0m in \u001b[0;36m<module>\u001b[1;34m\u001b[0m\n\u001b[0;32m      2\u001b[0m \u001b[0mson_age\u001b[0m \u001b[1;33m=\u001b[0m \u001b[1;36m42\u001b[0m\u001b[1;33m\u001b[0m\u001b[1;33m\u001b[0m\u001b[0m\n\u001b[0;32m      3\u001b[0m \u001b[1;32mif\u001b[0m \u001b[0mfather_age\u001b[0m \u001b[1;33m<\u001b[0m \u001b[0mson_age\u001b[0m\u001b[1;33m:\u001b[0m\u001b[1;33m\u001b[0m\u001b[1;33m\u001b[0m\u001b[0m\n\u001b[1;32m----> 4\u001b[1;33m     \u001b[1;32mraise\u001b[0m \u001b[0mException\u001b[0m \u001b[1;33m(\u001b[0m\u001b[1;34m\"Father's age must be greater than son's age\"\u001b[0m\u001b[1;33m)\u001b[0m\u001b[1;33m\u001b[0m\u001b[1;33m\u001b[0m\u001b[0m\n\u001b[0m\u001b[0;32m      5\u001b[0m \u001b[1;31m# This is a way of inserting Error exceptions in a code.\u001b[0m\u001b[1;33m\u001b[0m\u001b[1;33m\u001b[0m\u001b[0m\n",
      "\u001b[1;31mException\u001b[0m: Father's age must be greater than son's age"
     ]
    }
   ],
   "source": [
    "father_age = 30\n",
    "son_age = 42\n",
    "if father_age < son_age:\n",
    "    raise Exception (\"Father's age must be greater than son's age\")\n",
    "# This is a way of inserting Error exceptions in a code.    "
   ]
  },
  {
   "cell_type": "code",
   "execution_count": 33,
   "id": "9e00232d",
   "metadata": {},
   "outputs": [
    {
     "ename": "AssertionError",
     "evalue": "",
     "output_type": "error",
     "traceback": [
      "\u001b[1;31m---------------------------------------------------------------------------\u001b[0m",
      "\u001b[1;31mAssertionError\u001b[0m                            Traceback (most recent call last)",
      "\u001b[1;32m~\\AppData\\Local\\Temp/ipykernel_8848/3928836287.py\u001b[0m in \u001b[0;36m<module>\u001b[1;34m\u001b[0m\n\u001b[0;32m      1\u001b[0m \u001b[0mfather_age\u001b[0m \u001b[1;33m=\u001b[0m \u001b[1;36m30\u001b[0m\u001b[1;33m\u001b[0m\u001b[1;33m\u001b[0m\u001b[0m\n\u001b[0;32m      2\u001b[0m \u001b[0mson_age\u001b[0m \u001b[1;33m=\u001b[0m \u001b[1;36m42\u001b[0m\u001b[1;33m\u001b[0m\u001b[1;33m\u001b[0m\u001b[0m\n\u001b[1;32m----> 3\u001b[1;33m \u001b[1;32massert\u001b[0m \u001b[0mfather_age\u001b[0m \u001b[1;33m>\u001b[0m \u001b[0mson_age\u001b[0m\u001b[1;33m\u001b[0m\u001b[1;33m\u001b[0m\u001b[0m\n\u001b[0m\u001b[0;32m      4\u001b[0m \u001b[1;31m# Another way of inserting exceptions in codes.\u001b[0m\u001b[1;33m\u001b[0m\u001b[1;33m\u001b[0m\u001b[0m\n",
      "\u001b[1;31mAssertionError\u001b[0m: "
     ]
    }
   ],
   "source": [
    "father_age = 30\n",
    "son_age = 42\n",
    "assert father_age > son_age\n",
    "# Another way of inserting exceptions in codes."
   ]
  },
  {
   "cell_type": "code",
   "execution_count": 34,
   "id": "74405051",
   "metadata": {},
   "outputs": [],
   "source": [
    "#There are different systematic errors. That is: errors that has already been inputed in python already.\n",
    "#They are:\n",
    "#1. Zero division error\n",
    "#2. Name error\n",
    "#3. Runtime error\n",
    "#4. Key error\n",
    "#5. Type error \n",
    "#6. Assertion error etc."
   ]
  },
  {
   "cell_type": "code",
   "execution_count": 37,
   "id": "e1cb2408",
   "metadata": {},
   "outputs": [
    {
     "name": "stdout",
     "output_type": "stream",
     "text": [
      "2.0\n",
      "Can't divide by Zero\n",
      "To solve an exception error\n"
     ]
    }
   ],
   "source": [
    "def div (x,y):\n",
    "    try:\n",
    "        result = x/y\n",
    "    except:\n",
    "        result = \"Can't divide by Zero\"\n",
    "    return result\n",
    "print (div (4,2))\n",
    "print (div (6,0))\n",
    "print (\"To solve an exception error\")\n",
    "#The try and except is used to solve an exception error"
   ]
  },
  {
   "cell_type": "code",
   "execution_count": 60,
   "id": "06a9beb3",
   "metadata": {},
   "outputs": [
    {
     "name": "stdout",
     "output_type": "stream",
     "text": [
      "Can't divide by Zero\n",
      "Can't divide by Zero\n",
      "To solve an exception error\n"
     ]
    }
   ],
   "source": [
    "def div (x,y):\n",
    "    try:\n",
    "        assert x <= y\n",
    "        result = x/y\n",
    "    except:\n",
    "        result = \"Can't divide by Zero\"\n",
    "    return result\n",
    "print (div (4,2))\n",
    "print (div (6,0))\n",
    "print (\"To solve an exception error\")\n",
    "# Assert can also be used in a try and except method."
   ]
  },
  {
   "cell_type": "code",
   "execution_count": 61,
   "id": "99e80625",
   "metadata": {},
   "outputs": [
    {
     "name": "stdout",
     "output_type": "stream",
     "text": [
      "2.0\n",
      "Can't divide by Zero\n",
      "Error. x is less than y\n",
      "0.5\n",
      "To solve an exception error\n"
     ]
    }
   ],
   "source": [
    "def div (x,y):\n",
    "    try:\n",
    "        result = x/y\n",
    "        assert x >= y\n",
    "    except ZeroDivisionError:\n",
    "        result = \"Can't divide by Zero\"\n",
    "    except AssertionError:\n",
    "        print (\"Error. x is less than y\")\n",
    "    return result\n",
    "print (div (4,2))\n",
    "print (div (6,0))\n",
    "print (div (9, 18))\n",
    "print (\"To solve an exception error\")\n",
    "# Using multiple exceptions in a function."
   ]
  },
  {
   "cell_type": "code",
   "execution_count": 67,
   "id": "3fdd9397",
   "metadata": {},
   "outputs": [
    {
     "name": "stdout",
     "output_type": "stream",
     "text": [
      "Else\n",
      "Finally clause\n",
      "2.0\n",
      "Finally clause\n",
      "Can't divide by Zero\n",
      "Else\n",
      "Finally clause\n",
      "3.0\n",
      "To solve an exception error\n"
     ]
    }
   ],
   "source": [
    "def div (x,y):\n",
    "    try:\n",
    "        result = x/y\n",
    "        assert x >= y\n",
    "    except ZeroDivisionError:\n",
    "        result = \"Can't divide by Zero\"\n",
    "    else :\n",
    "        print (\"Else\")\n",
    "    finally:\n",
    "        print (\"Finally clause\")\n",
    "    return result\n",
    "print (div (4,2))\n",
    "print (div (6,0))\n",
    "print (div (9, 3))\n",
    "print (\"To solve an exception error\")\n",
    "# Using multiple exceptions in a function."
   ]
  },
  {
   "cell_type": "code",
   "execution_count": 3,
   "id": "f489607f",
   "metadata": {},
   "outputs": [
    {
     "name": "stdout",
     "output_type": "stream",
     "text": [
      "Else\n",
      "Finally clause\n",
      "2.0\n",
      "Finally clause\n",
      "Can't divide by Zero\n"
     ]
    }
   ],
   "source": [
    "def div (x,y):\n",
    "    try:\n",
    "        result = x/y\n",
    "        x > y\n",
    "    except ZeroDivisionError:\n",
    "        result = \"Can't divide by Zero\"\n",
    "    else :\n",
    "        print (\"Else\")\n",
    "    finally:\n",
    "        print (\"Finally clause\")\n",
    "    return result\n",
    "print (div (4,2))\n",
    "print (div (6,0))\n",
    "# Note: Because of the condition (x>y), Else is printed cos x is > y and doesn't suit the except, so the else is executed."
   ]
  },
  {
   "cell_type": "code",
   "execution_count": null,
   "id": "31579cb2",
   "metadata": {},
   "outputs": [],
   "source": []
  }
 ],
 "metadata": {
  "kernelspec": {
   "display_name": "Python 3 (ipykernel)",
   "language": "python",
   "name": "python3"
  },
  "language_info": {
   "codemirror_mode": {
    "name": "ipython",
    "version": 3
   },
   "file_extension": ".py",
   "mimetype": "text/x-python",
   "name": "python",
   "nbconvert_exporter": "python",
   "pygments_lexer": "ipython3",
   "version": "3.9.7"
  }
 },
 "nbformat": 4,
 "nbformat_minor": 5
}
