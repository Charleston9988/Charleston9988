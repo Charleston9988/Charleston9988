{
 "cells": [
  {
   "cell_type": "code",
   "execution_count": 1,
   "id": "9e5b9874",
   "metadata": {},
   "outputs": [],
   "source": [
    "#Lambda function\n",
    "# Map function\n",
    "# Filter function"
   ]
  },
  {
   "cell_type": "code",
   "execution_count": 20,
   "id": "9f13ea53",
   "metadata": {},
   "outputs": [],
   "source": [
    "#LAMBDA\n",
    "\n",
    "#Normal functions are defined using the keyword in Python, Anonymous functions are defined using the lambda keyword.\n",
    "\n",
    "# So essentially anonymous functions are also called lambda functions.\n",
    "#Anonymous functions are functions without a keyword.\n",
    "\n",
    "# We can pass arguments to the lambda using args and kwargs.\n",
    "# Args: The Non-keyword arguments (Args = Arguments)\n",
    "# Kwargs: The keyword argument  (Kwargs = Keyword Arguments)"
   ]
  },
  {
   "cell_type": "code",
   "execution_count": 13,
   "id": "53abcee0",
   "metadata": {},
   "outputs": [
    {
     "name": "stdout",
     "output_type": "stream",
     "text": [
      "4.0\n",
      "4.0\n"
     ]
    }
   ],
   "source": [
    "def div (x,y):\n",
    "    return x/y\n",
    "print (div(8,2))\n",
    "# Instead of using the above to define a function, we can define a function using lambda as seen below:\n",
    "divd = lambda g,h : g/h\n",
    "print (divd(8,2))\n",
    "#This function divides the value of \"g\" by the value of \"h\""
   ]
  },
  {
   "cell_type": "code",
   "execution_count": 14,
   "id": "3962fba7",
   "metadata": {},
   "outputs": [
    {
     "name": "stdout",
     "output_type": "stream",
     "text": [
      "10\n"
     ]
    }
   ],
   "source": [
    "addi = lambda a : a + 7\n",
    "a = 3\n",
    "print (addi(a))\n",
    "# This functions adds 7 to the value of \"a\""
   ]
  },
  {
   "cell_type": "code",
   "execution_count": 15,
   "id": "e37f3e42",
   "metadata": {},
   "outputs": [
    {
     "data": {
      "text/plain": [
       "90"
      ]
     },
     "execution_count": 15,
     "metadata": {},
     "output_type": "execute_result"
    }
   ],
   "source": [
    "def multply (one_list):\n",
    "    result = 1\n",
    "    for elements in one_list:\n",
    "        result = result * elements\n",
    "    return result\n",
    "\n",
    "bingo = [3,5,6]\n",
    "multply (bingo)\n",
    "# The conventional way of multiplying all the elements in a list"
   ]
  },
  {
   "cell_type": "code",
   "execution_count": 19,
   "id": "30a7ae0c",
   "metadata": {},
   "outputs": [
    {
     "data": {
      "text/plain": [
       "90"
      ]
     },
     "execution_count": 19,
     "metadata": {},
     "output_type": "execute_result"
    }
   ],
   "source": [
    "def multiply (*args):\n",
    "    result = 1\n",
    "    for elements in args:\n",
    "        result = result * elements\n",
    "    return result\n",
    "\n",
    "multiply (3,5,6)\n",
    "# The Pythonic way of multiplying elements. NOTE: you don't need to create a list to use this method.\n",
    "# Here we can input as many elements as we want."
   ]
  },
  {
   "cell_type": "code",
   "execution_count": 31,
   "id": "563058bb",
   "metadata": {},
   "outputs": [
    {
     "name": "stdout",
     "output_type": "stream",
     "text": [
      "Imo Owerri\n",
      "Abia Umuahia\n",
      "Anambra Awka\n",
      "None\n",
      "{'Im': 'Owerri', 'ab': 'umuahia'}\n"
     ]
    }
   ],
   "source": [
    "def display (**kwargs):\n",
    "    for k,v in zip (kwargs.keys(), kwargs.values()):\n",
    "        print (k,v)\n",
    "        \n",
    "print (display (Imo = \"Owerri\", Abia = \"Umuahia\", Anambra = \"Awka\" ))\n",
    "# Pythonic way of displaying dictionaries\n",
    "\n",
    "bin = {\"Im\" : \"Owerri\", \"ab\" : \"umuahia\"}\n",
    "print (bin)\n",
    "# Conventional way of displaying dictionaries"
   ]
  },
  {
   "cell_type": "code",
   "execution_count": 33,
   "id": "785535e3",
   "metadata": {},
   "outputs": [],
   "source": [
    "# To convert a list, set, dictionary to an iterator\n",
    "list_1 = [2,5,1,6,8]\n",
    "iterator = iter(list_1)\n",
    "#NOTE: We cannot print the iterators. We can only call one at a time using the next function. As seen below. "
   ]
  },
  {
   "cell_type": "code",
   "execution_count": 37,
   "id": "78c10297",
   "metadata": {},
   "outputs": [
    {
     "name": "stdout",
     "output_type": "stream",
     "text": [
      "8\n"
     ]
    }
   ],
   "source": [
    "print (next(iterator))"
   ]
  },
  {
   "cell_type": "code",
   "execution_count": null,
   "id": "7cf020bc",
   "metadata": {},
   "outputs": [],
   "source": []
  },
  {
   "cell_type": "code",
   "execution_count": null,
   "id": "3f64240b",
   "metadata": {},
   "outputs": [],
   "source": []
  },
  {
   "cell_type": "code",
   "execution_count": null,
   "id": "f7b3907d",
   "metadata": {},
   "outputs": [],
   "source": []
  }
 ],
 "metadata": {
  "kernelspec": {
   "display_name": "Python 3 (ipykernel)",
   "language": "python",
   "name": "python3"
  },
  "language_info": {
   "codemirror_mode": {
    "name": "ipython",
    "version": 3
   },
   "file_extension": ".py",
   "mimetype": "text/x-python",
   "name": "python",
   "nbconvert_exporter": "python",
   "pygments_lexer": "ipython3",
   "version": "3.9.7"
  }
 },
 "nbformat": 4,
 "nbformat_minor": 5
}
